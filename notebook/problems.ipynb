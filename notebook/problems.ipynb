{
 "cells": [
  {
   "cell_type": "markdown",
   "id": "d9d036c6",
   "metadata": {},
   "source": [
    "# Hypothesis testing problems"
   ]
  },
  {
   "cell_type": "markdown",
   "id": "d157c4db",
   "metadata": {},
   "source": [
    "## Exercise 1\n",
    "\n",
    "You are a nutritionist researching two different types of diets to see if there is a significant difference in weight loss after one month. You choose two random groups of people; one group follows the first diet, and the other follows the second. At the end of the month, you record the weight loss (in kg) for each person:\n",
    "\n",
    "| Diet 1 | Diet 2 |\n",
    "|:-------|:-------|\n",
    "| 2.0 | 3.0 |\n",
    "| 2.5 | 3.2 |\n",
    "| 3.0 | 3.1 |\n",
    "| 2.8 | 2.9 |\n",
    "| 2.3 | 2.8 |\n",
    "| 2.7 | 3.0 |\n",
    "| 2.5 | 3.2 |\n",
    "\n",
    "With these data, it seeks to answer the following question: Is there a significant difference in average weight loss between people who followed the first diet and those who followed the second diet?\n",
    "\n",
    "To draw conclusions, follow the points below:\n",
    "\n",
    "- State the hypothesis: null and alternative hypothesis.\n",
    "- Perform the test to test the hypothesis. You can use a Student's t-test.\n",
    "- Analyze the conclusions."
   ]
  },
  {
   "cell_type": "code",
   "execution_count": 6,
   "id": "8e0f3cf0",
   "metadata": {},
   "outputs": [
    {
     "name": "stdout",
     "output_type": "stream",
     "text": [
      "Student's t-test's P-value is TtestResult(statistic=np.float64(-3.5383407969933938), pvalue=np.float64(0.004083270191713912), df=np.float64(12.0)). Since this value is lower than 0.05, we can reject H0 and assume H1.\n"
     ]
    }
   ],
   "source": [
    "# H0: mean_weight_loss_diet_1 == mean_weight_loss_mean_2\n",
    "# H1: mean_weight_loss_diet_1 =/= mean_weight_loss_mean_2\n",
    "\n",
    "from scipy.stats import ttest_ind, f_oneway\n",
    "\n",
    "diet_1 = [2, 2.5, 3, 2.8, 2.3, 2.7, 2.5]\n",
    "diet_2 = [3, 3.2,3.1, 2.9, 2.8, 3, 3.2]\n",
    "\n",
    "p_value = ttest_ind(diet_1, diet_2)\n",
    "\n",
    "print(f\"Student's t-test's P-value is {p_value}. Since this value is lower than 0.05, we can reject H0 and assume H1.\")"
   ]
  },
  {
   "cell_type": "markdown",
   "id": "f432e18e",
   "metadata": {},
   "source": [
    "## ANOVA\n",
    "\n",
    "**ANOVA** (*Analysis of Variance*) is a statistical technique used to compare the measures of two or more groups. The idea behind ANOVA is to decompose the total variability in the data into two components: between-group variability and within-group variability:\n",
    "\n",
    "- **Between-group variability**: This variability refers to the differences between the group means. If this variability is considerably larger than the within-group variability, it could be an indication that at least one of the group means is different.\n",
    "- **Within-group variability**: This variability refers to the dispersion of the data within each group. If all groups have similar variability, then any noticeable difference in group means could be considered significant.\n",
    "\n",
    "Hypotheses in ANOVA typically include:\n",
    "\n",
    "- **Null hypothesis** ($H₀$): The means of all groups are equal.\n",
    "- **Alternative hypothesis** ($H₁$): At least one of the group means is different.\n",
    "\n",
    "If the ANOVA test result is significant (e.g., a p-value less than a threshold such as 0.05), this suggests that at least one group mean is different."
   ]
  },
  {
   "cell_type": "markdown",
   "id": "fc5f3721",
   "metadata": {},
   "source": [
    "## Exercise 2\n",
    "\n",
    "A farmer decides to test three different types of fertilizers to determine if one is superior in terms of corn production. The farmer plants corn on 15 identical plots and uses all three fertilizers (5 plots for each type). At the end of the season, he measures the corn yield (in kg) of each plot, with the following result:\n",
    "\n",
    "| Fertilizer 1 | Fertilizer 2 | Fertilizer 3 |\n",
    "|:-------------|:-------------|:-------------|\n",
    "| 20 | 22 | 24 |\n",
    "| 21 | 21 | 23 |\n",
    "| 20 | 23 | 22 |\n",
    "| 19 | 22 | 23 |\n",
    "| 20 | 21 | 24 |\n",
    "\n",
    "With this data, he seeks to answer the following question: Is there a significant difference in average corn yield between the three types of fertilizers?\n",
    "\n",
    "To help you, follow the points below:\n",
    "\n",
    "- State the hypothesis: null and alternative hypothesis.\n",
    "- Perform the ANOVA test.\n",
    "- Analyze the conclusions.\n",
    "- If one fertilizer is better than another, how can we know it?"
   ]
  },
  {
   "cell_type": "code",
   "execution_count": 11,
   "id": "eecad0ca",
   "metadata": {},
   "outputs": [
    {
     "name": "stdout",
     "output_type": "stream",
     "text": [
      "F value: 20.315789473684188\n",
      "P value: 0.00014047824793190475\n",
      "Since the P value is 0.00014047824793190475, which is lower than 0'05%, we can reject H0 and assume that at least one of the means is different than the rest.\n",
      "Multiple Comparison of Means - Tukey HSD, FWER=0.50\n",
      "==================================================\n",
      "group1 group2 meandiff p-adj  lower  upper  reject\n",
      "--------------------------------------------------\n",
      "    F1     F2      1.8 0.0099 1.2181 2.3819   True\n",
      "    F1     F3      3.2 0.0001 2.6181 3.7819   True\n",
      "    F2     F3      1.4 0.0409 0.8181 1.9819   True\n",
      "--------------------------------------------------\n",
      "Since all the values of the 'reject' column are true, we can conclude that there is a significant difference between every group of fertilizers. Looking at the 'meandiff' column, we can observe that fertilizer_3 has a higher mean than both fertilizer_1 and fertilizer_2, and is therefore the most efficient one.\n"
     ]
    }
   ],
   "source": [
    "# H0: mean_fertilizer_1 == mean_fertilizer_2 == mean_fertilizer_3\n",
    "# H1: mean_fertilizer_1 =/= mean_fertilizer_2 =/= mean_fertilizer_3\n",
    "import numpy as np\n",
    "from statsmodels.stats.multicomp import pairwise_tukeyhsd\n",
    "\n",
    "fertilizer_1 = [20, 21, 20, 19, 20]\n",
    "fertilizer_2 = [22, 21, 23, 22, 21]\n",
    "fertilizer_3 = [24, 23, 22, 23, 24]\n",
    "\n",
    "f_value, p_value = f_oneway(fertilizer_1, fertilizer_2, fertilizer_3)\n",
    "\n",
    "print(f\"F value: {f_value}\")\n",
    "print(f\"P value: {p_value}\")\n",
    "print(f\"Since the P value is {p_value}, which is lower than 0'05%, we can reject H0 and assume that at least one of the means is different than the rest.\")\n",
    "\n",
    "data = np.concatenate([fertilizer_1, fertilizer_2, fertilizer_3])\n",
    "labels = [\"F1\"] * 5 + [\"F2\"] * 5 + [\"F3\"] * 5\n",
    "\n",
    "result = pairwise_tukeyhsd(data, labels, alpha = 0.5)\n",
    "\n",
    "print(result)\n",
    "print(\"Since all the values of the 'reject' column are true, we can conclude that there is a significant difference between every group of fertilizers. Looking at the 'meandiff' column, we can observe that fertilizer_3 has a higher mean than both fertilizer_1 and fertilizer_2, and is therefore the most efficient one.\")"
   ]
  }
 ],
 "metadata": {
  "kernelspec": {
   "display_name": "Python 3",
   "language": "python",
   "name": "python3"
  },
  "language_info": {
   "codemirror_mode": {
    "name": "ipython",
    "version": 3
   },
   "file_extension": ".py",
   "mimetype": "text/x-python",
   "name": "python",
   "nbconvert_exporter": "python",
   "pygments_lexer": "ipython3",
   "version": "3.11.4"
  }
 },
 "nbformat": 4,
 "nbformat_minor": 5
}
